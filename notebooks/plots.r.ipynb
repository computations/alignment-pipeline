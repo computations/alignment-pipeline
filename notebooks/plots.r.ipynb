{
 "cells": [
  {
   "cell_type": "code",
   "execution_count": null,
   "id": "fc3cb2fe",
   "metadata": {},
   "outputs": [],
   "source": [
    "library(\"ggplot2\")\n",
    "library(\"data.table\")\n",
    "library(\"cowplot\")\n",
    "\n",
    "results = fread(\"./distances.csv\")\n",
    "results"
   ]
  },
  {
   "cell_type": "code",
   "execution_count": null,
   "id": "17e63edd-b204-4927-b569-7b550f986ffb",
   "metadata": {},
   "outputs": [],
   "source": [
    "options(repr.plot.width = 21, repr.plot.height=13)"
   ]
  },
  {
   "cell_type": "code",
   "execution_count": null,
   "id": "37ce87cf-309d-4e5e-bf06-ed7da921b344",
   "metadata": {},
   "outputs": [],
   "source": [
    "p.nf = ggplot(results, aes(x = nf, y = e_nd)) + \n",
    "    facet_grid(rows=\"aligner\", scale=\"free_y\") + \n",
    "    geom_smooth(method=\"lm\", se=TRUE, formula = y ~ splines::ns(x,3)) + \n",
    "    theme(text=element_text(size=15)) + \n",
    "    labs(x = \"Nick Frequency\", y = \"Expected Node Distance\")\n",
    "p.nf"
   ]
  },
  {
   "cell_type": "code",
   "execution_count": null,
   "id": "95533eea-13f1-4bf2-9b9b-0ae2d467669d",
   "metadata": {},
   "outputs": [],
   "source": [
    "p.ov = ggplot(results, aes(x = ov, y = e_nd)) + \n",
    "    facet_grid(rows=\"aligner\", scale=\"free_y\", shrink=TRUE) + \n",
    "    geom_smooth(method=\"lm\", se=TRUE, formula = y ~ splines::ns(x,3)) + \n",
    "    theme(text=element_text(size=15))+ \n",
    "    labs(x = \"Overhang\", y = \"Expected Node Distance\")\n",
    "\n",
    "p.ov"
   ]
  },
  {
   "cell_type": "code",
   "execution_count": null,
   "id": "46bf224a-6e82-4af6-b6ae-dc9ad2f2e1e2",
   "metadata": {},
   "outputs": [],
   "source": [
    "p.ss = ggplot(results, aes(x = ss, y = e_nd)) +\n",
    "    facet_grid(rows=\"aligner\", scale=\"free_y\", shrink=TRUE) + \n",
    "    geom_smooth(method=\"lm\", se=TRUE, formula = y ~ splines::ns(x, 1)) + \n",
    "    theme(text=element_text(size=15))+ \n",
    "    labs(x = \"Single Strand\", y = \"Expected Node Distance\")\n",
    "\n",
    "p.ss"
   ]
  },
  {
   "cell_type": "code",
   "execution_count": null,
   "id": "50711c62-9a96-4225-b5c6-c87f0e567679",
   "metadata": {},
   "outputs": [],
   "source": [
    "p.ds = ggplot(results, aes(x = ds, y = e_nd)) +\n",
    "    facet_grid(rows=\"aligner\", scale=\"free_y\", shrink=TRUE) + \n",
    "    geom_smooth(method=\"lm\", se=TRUE, formula = y ~ splines::ns(x,2)) + \n",
    "    theme(text=element_text(size=15))+ \n",
    "    labs(x = \"Double Strand\", y = \"Expected Node Distance\")\n",
    "\n",
    "p.ds"
   ]
  },
  {
   "cell_type": "code",
   "execution_count": null,
   "id": "3634b176-b1eb-472b-8af8-06f5ab29badb",
   "metadata": {},
   "outputs": [],
   "source": [
    "options(repr.plot.width = 18, repr.plot.height=14)\n",
    "plot_grid(p.nf, p.ov, p.ss, p.ds, labels=\"AUTO\")"
   ]
  },
  {
   "cell_type": "code",
   "execution_count": null,
   "id": "4c14985b-9eae-468a-b3e3-36614ac3f812",
   "metadata": {},
   "outputs": [],
   "source": [
    "p.nf = ggplot(results, aes(x = nf, y = e_nd)) + \n",
    "    facet_grid(rows=\"aligner\", scale=\"free_y\") + \n",
    "    geom_smooth(method=\"lm\") + \n",
    "    theme(text=element_text(size=15)) + \n",
    "    labs(x = \"Nick Frequency\", y = \"Expected Node Distance\")\n",
    "p.nf"
   ]
  },
  {
   "cell_type": "code",
   "execution_count": null,
   "id": "ca49ee23-4732-4a73-8389-d654931ce32a",
   "metadata": {},
   "outputs": [],
   "source": [
    "p.nf = ggplot(results, aes(x = ov, y = e_nd)) + \n",
    "    facet_grid(rows=\"aligner\", scale=\"free_y\") + \n",
    "    geom_smooth(method=\"lm\") + \n",
    "    theme(text=element_text(size=15)) + \n",
    "    labs(x = \"Overhang\", y = \"Expected Node Distance\")\n",
    "p.nf"
   ]
  },
  {
   "cell_type": "code",
   "execution_count": null,
   "id": "a8467bb9-39d9-4b50-af65-a96e6152ac23",
   "metadata": {},
   "outputs": [],
   "source": [
    "p.nf = ggplot(results, aes(x = ds, y = e_nd)) + \n",
    "    facet_grid(rows=\"aligner\", scale=\"free_y\") + \n",
    "    geom_smooth(method=\"lm\") + \n",
    "    theme(text=element_text(size=15)) + \n",
    "    labs(x = \"Double Strand\", y = \"Expected Node Distance\")\n",
    "p.nf"
   ]
  },
  {
   "cell_type": "code",
   "execution_count": null,
   "id": "61088144-bffd-4db6-a80f-874f6362aa36",
   "metadata": {},
   "outputs": [],
   "source": [
    "p.nf = ggplot(results, aes(x = ss, y = e_nd)) + \n",
    "    facet_grid(rows=\"aligner\", scale=\"free_y\") + \n",
    "    geom_smooth(method=\"lm\") + \n",
    "    theme(text=element_text(size=15)) + \n",
    "    labs(x = \"Single Strand\", y = \"Expected Node Distance\")\n",
    "p.nf"
   ]
  },
  {
   "cell_type": "code",
   "execution_count": null,
   "id": "a6aa7378-41ea-4e8e-8930-8e2e2987bdd2",
   "metadata": {},
   "outputs": [],
   "source": [
    "ggplot(results, aes(x = nf)) + geom_histogram()"
   ]
  },
  {
   "cell_type": "code",
   "execution_count": null,
   "id": "8ab336e4-be44-44a2-b637-54d55da4370f",
   "metadata": {},
   "outputs": [],
   "source": [
    "ggplot(results, aes(x = ov)) + geom_histogram()"
   ]
  },
  {
   "cell_type": "code",
   "execution_count": null,
   "id": "ae5af718-3bcb-4ddf-88ec-9c9ed4b191a6",
   "metadata": {},
   "outputs": [],
   "source": [
    "ggplot(results, aes(x = ds)) + geom_histogram()"
   ]
  },
  {
   "cell_type": "code",
   "execution_count": null,
   "id": "03b3acff-8609-4e40-8372-bd7af121f45b",
   "metadata": {},
   "outputs": [],
   "source": [
    "ggplot(results, aes(x = ss)) + geom_histogram()"
   ]
  },
  {
   "cell_type": "code",
   "execution_count": null,
   "id": "fe176cd0-b59d-446d-a999-50ecde676086",
   "metadata": {},
   "outputs": [],
   "source": [
    "aligners <- factor(results$aligner)\n",
    "models <- lapply(aligners, function(x){\n",
    "    lm(e_nd ~ splines::ns(nf, 3) , results[aligner == x])\n",
    "    })\n",
    "lapply(models, summary)"
   ]
  },
  {
   "cell_type": "code",
   "execution_count": null,
   "id": "da7831fc-01f1-42bd-b6b7-587061fac33d",
   "metadata": {},
   "outputs": [],
   "source": [
    "models <- lapply(aligners, function(x){\n",
    "    lm(e_nd ~ splines::ns(ov, 3) , results[aligner == x])\n",
    "    })\n",
    "lapply(models, summary)"
   ]
  },
  {
   "cell_type": "code",
   "execution_count": null,
   "id": "fbd3b10b-d2eb-4495-8015-0d6dd0f92a13",
   "metadata": {},
   "outputs": [],
   "source": [
    "models <- lapply(aligners, function(x){\n",
    "    lm(e_nd ~ splines::ns(ss, 1) , results[aligner == x])\n",
    "    })\n",
    "lapply(models, summary)"
   ]
  },
  {
   "cell_type": "code",
   "execution_count": null,
   "id": "c552ba9e-7137-4b9f-8064-70b3a60eea67",
   "metadata": {},
   "outputs": [],
   "source": [
    "models <- lapply(aligners, function(x){\n",
    "    lm(e_nd ~ splines::ns(ds, 2) , results[aligner == x])\n",
    "    })\n",
    "lapply(models, summary)"
   ]
  },
  {
   "cell_type": "code",
   "execution_count": null,
   "id": "50e84a23-22ff-41aa-895b-5952fe427290",
   "metadata": {},
   "outputs": [],
   "source": [
    "models <- lapply(aligners, function(x){\n",
    "    lm(e_nd ~ nf, results[aligner == x])\n",
    "    })\n",
    "lapply(models, summary)"
   ]
  },
  {
   "cell_type": "code",
   "execution_count": null,
   "id": "d58598bc-2cfe-4e08-8837-7528ce573205",
   "metadata": {},
   "outputs": [],
   "source": [
    "models <- lapply(aligners, function(x){\n",
    "    lm(e_nd ~ ov, results[aligner == x])\n",
    "    })\n",
    "lapply(models, summary)"
   ]
  },
  {
   "cell_type": "code",
   "execution_count": null,
   "id": "eb96808b-2917-4fa6-bc7f-572a122f2df8",
   "metadata": {},
   "outputs": [],
   "source": [
    "models <- lapply(aligners, function(x){\n",
    "    lm(e_nd ~ ss, results[aligner == x])\n",
    "    })\n",
    "lapply(models, summary)"
   ]
  },
  {
   "cell_type": "code",
   "execution_count": null,
   "id": "2df98e76-81d3-4a05-be7d-2442e59c3ef8",
   "metadata": {},
   "outputs": [],
   "source": [
    "models <- lapply(aligners, function(x){\n",
    "    lm(e_nd ~ ds, results[aligner == x])\n",
    "    })\n",
    "lapply(models, summary)"
   ]
  }
 ],
 "metadata": {
  "kernelspec": {
   "display_name": "R",
   "language": "R",
   "name": "ir"
  },
  "language_info": {
   "codemirror_mode": "r",
   "file_extension": ".r",
   "mimetype": "text/x-r-source",
   "name": "R",
   "pygments_lexer": "r",
   "version": "4.4.1"
  }
 },
 "nbformat": 4,
 "nbformat_minor": 5
}
