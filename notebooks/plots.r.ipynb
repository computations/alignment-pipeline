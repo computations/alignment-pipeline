{
 "cells": [
  {
   "cell_type": "code",
   "execution_count": null,
   "id": "fc3cb2fe",
   "metadata": {},
   "outputs": [],
   "source": [
    "library(\"ggplot2\")\n",
    "library(\"data.table\")\n",
    "library(\"cowplot\")\n",
    "\n",
    "nice_name <- function(align) {\n",
    "    if (align == \"muscle\") ret <- \"Muscle\"\n",
    "    if (align == \"mafft\") ret <- \"MAFFT\"\n",
    "    if (align == \"hmmer\") ret <- \"HMMER\"\n",
    "    if (align == \"clustalo\") ret <- \"ClustalO\"\n",
    "    if (align == \"null\") ret <- \"null\"\n",
    "    ret\n",
    "}\n",
    "\n",
    "results = fread(\"./distances.csv\")\n",
    "results[, `:=` (\"NiceName\" = sapply(results[,aligner], nice_name))]\n",
    "results"
   ]
  },
  {
   "cell_type": "code",
   "execution_count": null,
   "id": "17e63edd-b204-4927-b569-7b550f986ffb",
   "metadata": {},
   "outputs": [],
   "source": [
    "options(repr.plot.width = 21, repr.plot.height=13)"
   ]
  },
  {
   "cell_type": "code",
   "execution_count": null,
   "id": "38abba08-e77e-46cd-824e-92457adcff61",
   "metadata": {},
   "outputs": [],
   "source": [
    "p.nf = ggplot(results, aes(x = nf, y = e_nd)) + \n",
    "    facet_grid(rows=\"NiceName\", scale=\"free_y\") + \n",
    "    geom_smooth(method=\"lm\") + \n",
    "    theme(text=element_text(size=15)) + \n",
    "    labs(x = \"Nick Frequency\", y = \"Expected Node Distance\")\n",
    "\n",
    "\n",
    "p.ov = ggplot(results, aes(x = ov, y = e_nd)) + \n",
    "    facet_grid(rows=\"NiceName\", scale=\"free_y\") + \n",
    "    geom_smooth(method=\"lm\") + \n",
    "    theme(text=element_text(size=15)) + \n",
    "    labs(x = \"Overhang\", y = \"Expected Node Distance\")\n",
    "\n",
    "\n",
    "p.ds = ggplot(results, aes(x = ds, y = e_nd)) + \n",
    "    facet_grid(rows=\"NiceName\", scale=\"free_y\") + \n",
    "    geom_smooth(method=\"lm\") + \n",
    "    theme(text=element_text(size=15)) + \n",
    "    labs(x = \"Double Strand\", y = \"Expected Node Distance\")\n",
    "\n",
    "\n",
    "p.ss = ggplot(results, aes(x = ss, y = e_nd)) + \n",
    "    facet_grid(rows=\"NiceName\", scale=\"free_y\") + \n",
    "    geom_smooth(method=\"lm\") + \n",
    "    theme(text=element_text(size=15)) + \n",
    "    labs(x = \"Single Strand\", y = \"Expected Node Distance\")\n",
    "\n",
    "\n",
    "plot_grid(p.nf, p.ov, p.ss, p.ds, labels=\"AUTO\")"
   ]
  },
  {
   "cell_type": "code",
   "execution_count": null,
   "id": "166e9577-8747-481f-a157-390e6f29c680",
   "metadata": {},
   "outputs": [],
   "source": [
    "p.nf = ggplot(results, aes(x = nf, y = e_nd)) + \n",
    "    facet_grid(rows=\"NiceName\", scale=\"free_y\") + \n",
    "    geom_smooth(method=\"lm\", se=TRUE, formula = y ~ splines::ns(x,3)) + \n",
    "    theme(text=element_text(size=15)) + \n",
    "    labs(x = \"Nick Frequency\", y = \"Expected Node Distance\")\n",
    "\n",
    "\n",
    "p.ov = ggplot(results, aes(x = ov, y = e_nd)) + \n",
    "    facet_grid(rows=\"NiceName\", scale=\"free_y\") + \n",
    "    geom_smooth(method=\"lm\", se=TRUE, formula = y ~ splines::ns(x,3)) + \n",
    "    theme(text=element_text(size=15)) + \n",
    "    labs(x = \"Overhang\", y = \"Expected Node Distance\")\n",
    "\n",
    "\n",
    "p.ds = ggplot(results, aes(x = ds, y = e_nd)) + \n",
    "    facet_grid(rows=\"NiceName\", scale=\"free_y\") + \n",
    "    geom_smooth(method=\"lm\", se=TRUE, formula = y ~ splines::ns(x,2)) + \n",
    "    theme(text=element_text(size=15)) + \n",
    "    labs(x = \"Double Strand\", y = \"Expected Node Distance\")\n",
    "\n",
    "\n",
    "p.ss = ggplot(results, aes(x = ss, y = e_nd)) + \n",
    "    facet_grid(rows=\"NiceName\", scale=\"free_y\") + \n",
    "    geom_smooth(method=\"lm\", se=TRUE, formula = y ~ splines::ns(x,1)) + \n",
    "    theme(text=element_text(size=15)) + \n",
    "    labs(x = \"Single Strand\", y = \"Expected Node Distance\")\n",
    "\n",
    "\n",
    "plot_grid(p.nf, p.ov, p.ss, p.ds, labels=\"AUTO\")"
   ]
  },
  {
   "cell_type": "code",
   "execution_count": null,
   "id": "2537c77b-c475-48f9-90a9-345cda1e3b05",
   "metadata": {},
   "outputs": [],
   "source": [
    "p.nf = ggplot(results, aes(x = nf, y = e_nd)) + \n",
    "    facet_grid(rows=\"NiceName\", scale=\"free_y\") + \n",
    "    geom_smooth(method=\"gam\") + \n",
    "    theme(text=element_text(size=15)) + \n",
    "    labs(x = \"Nick Frequency\", y = \"Expected Node Distance\")\n",
    "\n",
    "\n",
    "p.ov = ggplot(results, aes(x = ov, y = e_nd)) + \n",
    "    facet_grid(rows=\"NiceName\", scale=\"free_y\") + \n",
    "    geom_smooth(method=\"gam\") + \n",
    "    theme(text=element_text(size=15)) + \n",
    "    labs(x = \"Overhang\", y = \"Expected Node Distance\")\n",
    "\n",
    "\n",
    "p.ds = ggplot(results, aes(x = ds, y = e_nd)) + \n",
    "    facet_grid(rows=\"NiceName\", scale=\"free_y\") + \n",
    "    geom_smooth(method=\"gam\") + \n",
    "    theme(text=element_text(size=15)) + \n",
    "    labs(x = \"Double Strand\", y = \"Expected Node Distance\")\n",
    "\n",
    "\n",
    "p.ss = ggplot(results, aes(x = ss, y = e_nd)) + \n",
    "    facet_grid(rows=\"NiceName\", scale=\"free_y\") + \n",
    "    geom_smooth(method=\"gam\") + \n",
    "    theme(text=element_text(size=15)) + \n",
    "    labs(x = \"Single Strand\", y = \"Expected Node Distance\")\n",
    "\n",
    "\n",
    "plot_grid(p.nf, p.ov, p.ss, p.ds, labels=\"AUTO\")"
   ]
  },
  {
   "cell_type": "code",
   "execution_count": null,
   "id": "cbc20e68-c2bb-4a95-bfcb-9d323efca68b",
   "metadata": {},
   "outputs": [],
   "source": [
    "aligners = factor(unique(results$aligner))\n",
    "\n",
    "aligners"
   ]
  },
  {
   "cell_type": "code",
   "execution_count": null,
   "id": "50e84a23-22ff-41aa-895b-5952fe427290",
   "metadata": {},
   "outputs": [],
   "source": [
    "models <- lapply(aligners, function(x){\n",
    "        lm(e_nd ~ nf, results[aligner == x])\n",
    "    })\n",
    "lapply(models, summary)"
   ]
  },
  {
   "cell_type": "code",
   "execution_count": null,
   "id": "d58598bc-2cfe-4e08-8837-7528ce573205",
   "metadata": {},
   "outputs": [],
   "source": [
    "models <- lapply(aligners, function(x){\n",
    "    lm(e_nd ~ ov, results[aligner == x])\n",
    "    })\n",
    "lapply(models, summary)"
   ]
  },
  {
   "cell_type": "code",
   "execution_count": null,
   "id": "eb96808b-2917-4fa6-bc7f-572a122f2df8",
   "metadata": {},
   "outputs": [],
   "source": [
    "models <- lapply(aligners, function(x){\n",
    "    lm(e_nd ~ ss, results[aligner == x])\n",
    "    })\n",
    "lapply(models, summary)"
   ]
  },
  {
   "cell_type": "code",
   "execution_count": null,
   "id": "2df98e76-81d3-4a05-be7d-2442e59c3ef8",
   "metadata": {},
   "outputs": [],
   "source": [
    "models <- lapply(aligners, function(x){\n",
    "    lm(e_nd ~ ds, results[aligner == x])\n",
    "    })\n",
    "lapply(models, summary)"
   ]
  },
  {
   "cell_type": "code",
   "execution_count": null,
   "id": "5fd17c0c-722d-470e-89c4-86af98a685ba",
   "metadata": {},
   "outputs": [],
   "source": [
    "ggplot(results, aes(x = nf, after_stat(density))) + geom_histogram() + geom_density()"
   ]
  },
  {
   "cell_type": "code",
   "execution_count": null,
   "id": "10ebd4a3-13cd-485c-8183-421cecd6eb25",
   "metadata": {},
   "outputs": [],
   "source": [
    "ggplot(results, aes(x = ov, after_stat(density))) + geom_histogram() + geom_density()"
   ]
  },
  {
   "cell_type": "code",
   "execution_count": null,
   "id": "f710064f-978b-4e48-b28c-ffe2eef07d69",
   "metadata": {},
   "outputs": [],
   "source": [
    "ggplot(results, aes(x = ds, after_stat(density))) + geom_histogram() + geom_density()"
   ]
  },
  {
   "cell_type": "code",
   "execution_count": null,
   "id": "b9215b40-1420-4a04-8b38-b067b2c435b7",
   "metadata": {},
   "outputs": [],
   "source": [
    "ggplot(results, aes(x = ss, after_stat(density))) + geom_histogram() + geom_density()"
   ]
  },
  {
   "cell_type": "code",
   "execution_count": null,
   "id": "427e1b4b-88cc-44bd-881f-aaae423f38b4",
   "metadata": {},
   "outputs": [],
   "source": [
    "options(repr.plot.width = 10, repr.plot.height=12)\n",
    "ggplot(results, aes(y = e_nd, x = NiceName, fill = aligner)) + \n",
    "    geom_boxplot(staplewidth=0.5, outlier.alpha = 0.1) + \n",
    "    xlab(\"Alignment Tool\") +\n",
    "    ylab(\"eND\") +\n",
    "    scale_fill_brewer(palette=\"Pastel1\", guide=\"none\")"
   ]
  }
 ],
 "metadata": {
  "kernelspec": {
   "display_name": "R",
   "language": "R",
   "name": "ir"
  },
  "language_info": {
   "codemirror_mode": "r",
   "file_extension": ".r",
   "mimetype": "text/x-r-source",
   "name": "R",
   "pygments_lexer": "r",
   "version": "4.4.1"
  }
 },
 "nbformat": 4,
 "nbformat_minor": 5
}
