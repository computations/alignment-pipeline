{
 "cells": [
  {
   "cell_type": "code",
   "execution_count": null,
   "id": "fc3cb2fe",
   "metadata": {},
   "outputs": [],
   "source": [
    "library(\"ggplot2\")\n",
    "library(\"data.table\")\n",
    "library(\"cowplot\")\n",
    "\n",
    "results = fread(\"./distances.csv\")\n",
    "results"
   ]
  },
  {
   "cell_type": "code",
   "execution_count": null,
   "id": "17e63edd-b204-4927-b569-7b550f986ffb",
   "metadata": {},
   "outputs": [],
   "source": [
    "options(repr.plot.width = 21, repr.plot.height=13)"
   ]
  },
  {
   "cell_type": "code",
   "execution_count": null,
   "id": "4c14985b-9eae-468a-b3e3-36614ac3f812",
   "metadata": {},
   "outputs": [],
   "source": [
    "p.nf = ggplot(results, aes(x = nf, y = e_nd)) + \n",
    "    facet_grid(rows=\"aligner\", scale=\"free_y\") + \n",
    "    geom_smooth(method=\"lm\") + \n",
    "    theme(text=element_text(size=15)) + \n",
    "    labs(x = \"Nick Frequency\", y = \"Expected Node Distance\")\n",
    "p.nf"
   ]
  },
  {
   "cell_type": "code",
   "execution_count": null,
   "id": "ca49ee23-4732-4a73-8389-d654931ce32a",
   "metadata": {},
   "outputs": [],
   "source": [
    "p.nf = ggplot(results, aes(x = ov, y = e_nd)) + \n",
    "    facet_grid(rows=\"aligner\", scale=\"free_y\") + \n",
    "    geom_smooth(method=\"lm\") + \n",
    "    theme(text=element_text(size=15)) + \n",
    "    labs(x = \"Overhang\", y = \"Expected Node Distance\")\n",
    "p.nf"
   ]
  },
  {
   "cell_type": "code",
   "execution_count": null,
   "id": "a8467bb9-39d9-4b50-af65-a96e6152ac23",
   "metadata": {},
   "outputs": [],
   "source": [
    "p.nf = ggplot(results, aes(x = ds, y = e_nd)) + \n",
    "    facet_grid(rows=\"aligner\", scale=\"free_y\") + \n",
    "    geom_smooth(method=\"lm\") + \n",
    "    theme(text=element_text(size=15)) + \n",
    "    labs(x = \"Double Strand\", y = \"Expected Node Distance\")\n",
    "p.nf"
   ]
  },
  {
   "cell_type": "code",
   "execution_count": null,
   "id": "61088144-bffd-4db6-a80f-874f6362aa36",
   "metadata": {},
   "outputs": [],
   "source": [
    "p.nf = ggplot(results, aes(x = ss, y = e_nd)) + \n",
    "    facet_grid(rows=\"aligner\", scale=\"free_y\") + \n",
    "    geom_smooth(method=\"lm\") + \n",
    "    theme(text=element_text(size=15)) + \n",
    "    labs(x = \"Single Strand\", y = \"Expected Node Distance\")\n",
    "p.nf"
   ]
  },
  {
   "cell_type": "code",
   "execution_count": null,
   "id": "cbc20e68-c2bb-4a95-bfcb-9d323efca68b",
   "metadata": {},
   "outputs": [],
   "source": [
    "aligners = factor(unique(results$aligner))\n",
    "\n",
    "aligners"
   ]
  },
  {
   "cell_type": "code",
   "execution_count": null,
   "id": "50e84a23-22ff-41aa-895b-5952fe427290",
   "metadata": {},
   "outputs": [],
   "source": [
    "models <- lapply(aligners, function(x){\n",
    "        lm(e_nd ~ nf, results[aligner == x])\n",
    "    })\n",
    "lapply(models, summary)"
   ]
  },
  {
   "cell_type": "code",
   "execution_count": null,
   "id": "d58598bc-2cfe-4e08-8837-7528ce573205",
   "metadata": {},
   "outputs": [],
   "source": [
    "models <- lapply(aligners, function(x){\n",
    "    lm(e_nd ~ ov, results[aligner == x])\n",
    "    })\n",
    "lapply(models, summary)"
   ]
  },
  {
   "cell_type": "code",
   "execution_count": null,
   "id": "eb96808b-2917-4fa6-bc7f-572a122f2df8",
   "metadata": {},
   "outputs": [],
   "source": [
    "models <- lapply(aligners, function(x){\n",
    "    lm(e_nd ~ ss, results[aligner == x])\n",
    "    })\n",
    "lapply(models, summary)"
   ]
  },
  {
   "cell_type": "code",
   "execution_count": null,
   "id": "2df98e76-81d3-4a05-be7d-2442e59c3ef8",
   "metadata": {},
   "outputs": [],
   "source": [
    "models <- lapply(aligners, function(x){\n",
    "    lm(e_nd ~ ds, results[aligner == x])\n",
    "    })\n",
    "lapply(models, summary)"
   ]
  },
  {
   "cell_type": "code",
   "execution_count": null,
   "id": "5fd17c0c-722d-470e-89c4-86af98a685ba",
   "metadata": {},
   "outputs": [],
   "source": [
    "ggplot(results, aes(x = nf, after_stat(density))) + geom_histogram() + geom_density()"
   ]
  },
  {
   "cell_type": "code",
   "execution_count": null,
   "id": "10ebd4a3-13cd-485c-8183-421cecd6eb25",
   "metadata": {},
   "outputs": [],
   "source": [
    "ggplot(results, aes(x = ov, after_stat(density))) + geom_histogram() + geom_density()"
   ]
  },
  {
   "cell_type": "code",
   "execution_count": null,
   "id": "f710064f-978b-4e48-b28c-ffe2eef07d69",
   "metadata": {},
   "outputs": [],
   "source": [
    "ggplot(results, aes(x = ds, after_stat(density))) + geom_histogram() + geom_density()"
   ]
  },
  {
   "cell_type": "code",
   "execution_count": null,
   "id": "b9215b40-1420-4a04-8b38-b067b2c435b7",
   "metadata": {},
   "outputs": [],
   "source": [
    "ggplot(results, aes(x = ss, after_stat(density))) + geom_histogram() + geom_density()"
   ]
  }
 ],
 "metadata": {
  "kernelspec": {
   "display_name": "R",
   "language": "R",
   "name": "ir"
  },
  "language_info": {
   "codemirror_mode": "r",
   "file_extension": ".r",
   "mimetype": "text/x-r-source",
   "name": "R",
   "pygments_lexer": "r",
   "version": "4.4.1"
  }
 },
 "nbformat": 4,
 "nbformat_minor": 5
}
