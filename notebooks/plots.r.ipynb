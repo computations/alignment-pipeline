{
 "cells": [
  {
   "cell_type": "code",
   "execution_count": null,
   "id": "fc3cb2fe",
   "metadata": {},
   "outputs": [],
   "source": [
    "library(\"ggplot2\")\n",
    "library(\"data.table\")\n",
    "library(\"cowplot\")\n",
    "\n",
    "results = fread(\"./distances.csv\")\n",
    "results"
   ]
  },
  {
   "cell_type": "code",
   "execution_count": null,
   "id": "17e63edd-b204-4927-b569-7b550f986ffb",
   "metadata": {},
   "outputs": [],
   "source": [
    "options(repr.plot.width = 21, repr.plot.height=13)"
   ]
  },
  {
   "cell_type": "code",
   "execution_count": null,
   "id": "37ce87cf-309d-4e5e-bf06-ed7da921b344",
   "metadata": {},
   "outputs": [],
   "source": [
    "p.nf = ggplot(results, aes(x = nf, y = e_nd)) + \n",
    "    facet_grid(rows=\"aligner\", scale=\"free_y\") + \n",
    "    geom_smooth(method=\"lm\", se=TRUE, formula = y ~ splines::ns(x,3)) + \n",
    "    theme(text=element_text(size=15)) + \n",
    "    labs(x = \"Nick Frequency\", y = \"Expected Node Distance\")\n",
    "p.nf"
   ]
  },
  {
   "cell_type": "code",
   "execution_count": null,
   "id": "95533eea-13f1-4bf2-9b9b-0ae2d467669d",
   "metadata": {},
   "outputs": [],
   "source": [
    "p.ov = ggplot(results, aes(x = ov, y = e_nd)) + \n",
    "    facet_grid(rows=\"aligner\", scale=\"free_y\", shrink=TRUE) + \n",
    "    geom_smooth(method=\"lm\", se=TRUE, formula = y ~ splines::ns(x,3)) + \n",
    "    theme(text=element_text(size=15))+ \n",
    "    labs(x = \"Overhang\", y = \"Expected Node Distance\")\n",
    "\n",
    "p.ov"
   ]
  },
  {
   "cell_type": "code",
   "execution_count": null,
   "id": "46bf224a-6e82-4af6-b6ae-dc9ad2f2e1e2",
   "metadata": {},
   "outputs": [],
   "source": [
    "p.ss = ggplot(results, aes(x = ss, y = e_nd)) +\n",
    "    facet_grid(rows=\"aligner\", scale=\"free_y\", shrink=TRUE) + \n",
    "    geom_smooth(method=\"lm\", se=TRUE, formula = y ~ splines::ns(x, 1)) + \n",
    "    theme(text=element_text(size=15))+ \n",
    "    labs(x = \"Single Strand\", y = \"Expected Node Distance\")\n",
    "\n",
    "p.ss"
   ]
  },
  {
   "cell_type": "code",
   "execution_count": null,
   "id": "50711c62-9a96-4225-b5c6-c87f0e567679",
   "metadata": {},
   "outputs": [],
   "source": [
    "p.ds = ggplot(results, aes(x = ds, y = e_nd)) +\n",
    "    facet_grid(rows=\"aligner\", scale=\"free_y\", shrink=TRUE) + \n",
    "    geom_smooth(method=\"lm\", se=TRUE, formula = y ~ splines::ns(x,2)) + \n",
    "    theme(text=element_text(size=15))+ \n",
    "    labs(x = \"Double Strand\", y = \"Expected Node Distance\")\n",
    "\n",
    "p.ds"
   ]
  },
  {
   "cell_type": "code",
   "execution_count": null,
   "id": "3634b176-b1eb-472b-8af8-06f5ab29badb",
   "metadata": {},
   "outputs": [],
   "source": [
    "options(repr.plot.width = 18, repr.plot.height=14)\n",
    "plot_grid(p.nf, p.ov, p.ss, p.ds, labels=\"AUTO\")"
   ]
  }
 ],
 "metadata": {
  "kernelspec": {
   "display_name": "R",
   "language": "R",
   "name": "ir"
  },
  "language_info": {
   "codemirror_mode": "r",
   "file_extension": ".r",
   "mimetype": "text/x-r-source",
   "name": "R",
   "pygments_lexer": "r",
   "version": "4.4.1"
  }
 },
 "nbformat": 4,
 "nbformat_minor": 5
}
