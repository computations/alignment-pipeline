{
 "cells": [
  {
   "cell_type": "code",
   "execution_count": null,
   "id": "819958d6",
   "metadata": {},
   "outputs": [],
   "source": [
    "import pandas\n",
    "import seaborn\n",
    "\n",
    "df = pandas.read_csv('distances.csv')\n",
    "df['length'] = df.end - df.start\n",
    "df"
   ]
  },
  {
   "cell_type": "code",
   "execution_count": null,
   "id": "37de5190-5e9b-4a55-9175-ec73dc33be10",
   "metadata": {},
   "outputs": [],
   "source": [
    "seaborn.jointplot(df.loc[df.aligner == 'mafft'], x = 'nf' , y = 'e_nd', kind='reg')"
   ]
  },
  {
   "cell_type": "code",
   "execution_count": null,
   "id": "41473954-5754-4f30-8305-fd2c59f628ce",
   "metadata": {},
   "outputs": [],
   "source": [
    "seaborn.lineplot(df.loc[df.aligner == 'mafft'], x = 'nf' , y = 'e_nd')"
   ]
  },
  {
   "cell_type": "code",
   "execution_count": null,
   "id": "dc9cbfc1-5d61-45f7-8720-c10512c3b9d9",
   "metadata": {},
   "outputs": [],
   "source": [
    "seaborn.jointplot(df.loc[df.aligner == 'clustalo'], x = 'nf' , y = 'e_nd', kind='reg')"
   ]
  }
 ],
 "metadata": {
  "kernelspec": {
   "display_name": "Python 3 (ipykernel)",
   "language": "python",
   "name": "python3"
  },
  "language_info": {
   "codemirror_mode": {
    "name": "ipython",
    "version": 3
   },
   "file_extension": ".py",
   "mimetype": "text/x-python",
   "name": "python",
   "nbconvert_exporter": "python",
   "pygments_lexer": "ipython3",
   "version": "3.12.5"
  }
 },
 "nbformat": 4,
 "nbformat_minor": 5
}
